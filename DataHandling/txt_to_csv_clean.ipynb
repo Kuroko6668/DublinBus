{
 "cells": [
  {
   "cell_type": "code",
   "execution_count": 2,
   "id": "60862e7c",
   "metadata": {},
   "outputs": [],
   "source": [
    "import time\n",
    "import datetime\n",
    "import pandas as pd"
   ]
  },
  {
   "cell_type": "code",
   "execution_count": 5,
   "id": "861afcbe",
   "metadata": {},
   "outputs": [],
   "source": [
    "#read in csv files\n",
    "leavetimesRaw = pd.read_csv(\"~/data/rt_leavetimes_DB_2018.txt\", delimiter=\",\", header=False)\n",
    "tripsRaw = pd.read_csv(\"~/data/rt_trips_DB_2018.txt\", delimiter=\";\",header=False)\n",
    "rawData = [leavetimesRaw,tripsRaw]\n"
   ]
  },
  {
   "cell_type": "code",
   "execution_count": 6,
   "id": "08a9c969",
   "metadata": {},
   "outputs": [],
   "source": [
    "#format datetime columns\n",
    "def change_datetime_format(df):\n",
    "    df.DAYOFSERVICE = pd.to_datetime(df.DAYOFSERVICE)\n",
    "    df.LASTUPDATE = pd.to_datetime(df.LASTUPDATE)\n",
    "    "
   ]
  },
  {
   "cell_type": "code",
   "execution_count": 9,
   "id": "f05e270c",
   "metadata": {},
   "outputs": [],
   "source": [
    "#drop nan features if threshold exceeded (set to 80%)\n",
    "def drop_nan_column(df):\n",
    "    df.dropna(axis = 1, thresh = (len(df)//100) * 80 , inplace = True)\n",
    "    \n"
   ]
  },
  {
   "cell_type": "code",
   "execution_count": 10,
   "id": "447c11fa",
   "metadata": {},
   "outputs": [],
   "source": [
    "#drop features with constant values\n",
    "def drop_constant_column(df):\n",
    "    for column in df.columns:\n",
    "        if len(df[column].unique()) == 1:\n",
    "            df.drop(column,axis=1, inplace = True)\n",
    "    \n",
    "    \n",
    "    \n",
    "    "
   ]
  },
  {
   "cell_type": "code",
   "execution_count": 11,
   "id": "00a10a05",
   "metadata": {},
   "outputs": [],
   "source": [
    "start = time.time()\n",
    "for dataset in rawData:\n",
    "    change_datetime_format(dataset)\n",
    "    drop_nan_column(dataset)\n",
    "    drop_constant_column(dataset)\n",
    "\n",
    "#write to csv   \n",
    "leavetimesRaw.to_csv(\"~/data/leavetimes2018.csv\", index= False, header=None)\n",
    "tripsRaw.to_csv(\"~/data/trips2018.csv\", index=False, header=None)\n",
    "totaltime = time.time() - start\n",
    "print(totaltime)\n",
    "\n",
    "\n",
    "    \n",
    "    "
   ]
  },
  {
   "cell_type": "code",
   "execution_count": null,
   "id": "bdc83acc",
   "metadata": {},
   "outputs": [],
   "source": []
  }
 ],
 "metadata": {
  "kernelspec": {
   "display_name": "Python 3",
   "language": "python",
   "name": "python3"
  },
  "language_info": {
   "codemirror_mode": {
    "name": "ipython",
    "version": 3
   },
   "file_extension": ".py",
   "mimetype": "text/x-python",
   "name": "python",
   "nbconvert_exporter": "python",
   "pygments_lexer": "ipython3",
   "version": "3.8.8"
  },
  "vscode": {
   "interpreter": {
    "hash": "369f2c481f4da34e4445cda3fffd2e751bd1c4d706f27375911949ba6bb62e1c"
   }
  }
 },
 "nbformat": 4,
 "nbformat_minor": 5
}
